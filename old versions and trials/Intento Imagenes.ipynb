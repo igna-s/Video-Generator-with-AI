{
 "cells": [
  {
   "cell_type": "markdown",
   "metadata": {},
   "source": [
    "# Prueba de generadores de Imagenes, a parte de Sana y Wan AI"
   ]
  },
  {
   "cell_type": "code",
   "execution_count": null,
   "metadata": {
    "colab": {
     "base_uri": "https://localhost:8080/"
    },
    "executionInfo": {
     "elapsed": 14905,
     "status": "ok",
     "timestamp": 1741122049454,
     "user": {
      "displayName": "Ignacio Andrés Schwindt",
      "userId": "08587809665656452662"
     },
     "user_tz": 180
    },
    "id": "iQxdwJuDsnvl",
    "outputId": "0c288536-9c99-4894-bbbb-1d6d7ca4d0f5"
   },
   "outputs": [
    {
     "name": "stdout",
     "output_type": "stream",
     "text": [
      "Imagen guardada en: imagen.png\n"
     ]
    }
   ],
   "source": [
    "import requests\n",
    "\n",
    "# Define el endpoint del modelo que deseas usar, por ejemplo, Stable Diffusion\n",
    "API_URL = \"https://api-inference.huggingface.co/models/stabilityai/stable-diffusion-2-1-base\"\n",
    "# Reemplaza 'TU_TOKEN' por el token que obtengas de Hugging Face\n",
    "TOKEN = \"TU TOKEN\"\n",
    "headers = {\"Authorization\": f\"Bearer {TOKEN}\"}\n",
    "\n",
    "def generar_imagen_hf(prompt, output_file=\"imagen.png\"):\n",
    "    payload = {\"inputs\": prompt}\n",
    "    response = requests.post(API_URL, headers=headers, json=payload)\n",
    "    if response.status_code == 200:\n",
    "        with open(output_file, \"wb\") as f:\n",
    "            f.write(response.content)\n",
    "        print(f\"Imagen guardada en: {output_file}\")\n",
    "    else:\n",
    "        print(\"Error al generar la imagen:\", response.status_code, response.text)\n",
    "\n",
    "# Ejemplo de uso\n",
    "prompt = \"Ilustración digital de un paisaje futurista con colores vibrantes\"\n",
    "generar_imagen_hf(prompt)"
   ]
  },
  {
   "cell_type": "code",
   "execution_count": null,
   "metadata": {
    "colab": {
     "base_uri": "https://localhost:8080/"
    },
    "executionInfo": {
     "elapsed": 795,
     "status": "ok",
     "timestamp": 1741122050252,
     "user": {
      "displayName": "Ignacio Andrés Schwindt",
      "userId": "08587809665656452662"
     },
     "user_tz": 180
    },
    "id": "PE9AMrJ11LId",
    "outputId": "ebfaff5d-e22b-4fe6-9317-4f5de58971a6"
   },
   "outputs": [
    {
     "name": "stdout",
     "output_type": "stream",
     "text": [
      "Error al generar la imagen: 503 <!DOCTYPE html>\n",
      "<html class=\"\" lang=\"en\">\n",
      "<head>\n",
      "    <meta charset=\"utf-8\" />\n",
      "    <meta\n",
      "            name=\"viewport\"\n",
      "            content=\"width=device-width, initial-scale=1.0, user-scalable=no\"\n",
      "    />\n",
      "    <meta\n",
      "            name=\"description\"\n",
      "            content=\"We're on a journey to advance and democratize artificial intelligence through open source and open science.\"\n",
      "    />\n",
      "    <meta property=\"fb:app_id\" content=\"1321688464574422\" />\n",
      "    <meta name=\"twitter:card\" content=\"summary_large_image\" />\n",
      "    <meta name=\"twitter:site\" content=\"@huggingface\" />\n",
      "    <meta\n",
      "            property=\"og:title\"\n",
      "            content=\"Hugging Face - The AI community building the future.\"\n",
      "    />\n",
      "    <meta property=\"og:type\" content=\"website\" />\n",
      "\n",
      "    <title>Hugging Face - The AI community building the future.</title>\n",
      "    <style>\n",
      "        body {\n",
      "            margin: 0;\n",
      "        }\n",
      "\n",
      "        main {\n",
      "            background-color: white;\n",
      "            min-height: 100vh;\n",
      "            padding: 7rem 1rem 8rem 1rem;\n",
      "            text-align: center;\n",
      "            font-family: Source Sans Pro, ui-sans-serif, system-ui, -apple-system,\n",
      "            BlinkMacSystemFont, Segoe UI, Roboto, Helvetica Neue, Arial, Noto Sans,\n",
      "            sans-serif, Apple Color Emoji, Segoe UI Emoji, Segoe UI Symbol,\n",
      "            Noto Color Emoji;\n",
      "        }\n",
      "\n",
      "        img {\n",
      "            width: 6rem;\n",
      "            height: 6rem;\n",
      "            margin: 0 auto 1rem;\n",
      "        }\n",
      "\n",
      "        h1 {\n",
      "            font-size: 3.75rem;\n",
      "            line-height: 1;\n",
      "            color: rgba(31, 41, 55, 1);\n",
      "            font-weight: 700;\n",
      "            box-sizing: border-box;\n",
      "            margin: 0 auto;\n",
      "        }\n",
      "\n",
      "        p, a {\n",
      "            color: rgba(107, 114, 128, 1);\n",
      "            font-size: 1.125rem;\n",
      "            line-height: 1.75rem;\n",
      "            max-width: 28rem;\n",
      "            box-sizing: border-box;\n",
      "            margin: 0 auto;\n",
      "        }\n",
      "\n",
      "        .dark main {\n",
      "            background-color: rgb(11, 15, 25);\n",
      "        }\n",
      "        .dark h1 {\n",
      "            color: rgb(209, 213, 219);\n",
      "        }\n",
      "        .dark p, .dark a {\n",
      "            color: rgb(156, 163, 175);\n",
      "        }\n",
      "    </style>\n",
      "    <script>\n",
      "        // On page load or when changing themes, best to add inline in `head` to avoid FOUC\n",
      "        const key = \"_tb_global_settings\";\n",
      "        let theme = window.matchMedia(\"(prefers-color-scheme: dark)\").matches\n",
      "            ? \"dark\"\n",
      "            : \"light\";\n",
      "        try {\n",
      "            const storageTheme = JSON.parse(window.localStorage.getItem(key)).theme;\n",
      "            if (storageTheme) {\n",
      "                theme = storageTheme === \"dark\" ? \"dark\" : \"light\";\n",
      "            }\n",
      "        } catch (e) {}\n",
      "        if (theme === \"dark\") {\n",
      "            document.documentElement.classList.add(\"dark\");\n",
      "        } else {\n",
      "            document.documentElement.classList.remove(\"dark\");\n",
      "        }\n",
      "    </script>\n",
      "</head>\n",
      "\n",
      "<body>\n",
      "<main>\n",
      "    <img\n",
      "            src=\"https://cdn-media.huggingface.co/assets/huggingface_logo.svg\"\n",
      "            alt=\"\"\n",
      "    />\n",
      "    <div>\n",
      "        <h1>503</h1>\n",
      "        <p>Service Unavailable</p>\n",
      "    </div>\n",
      "</main>\n",
      "</body>\n",
      "</html>\n"
     ]
    }
   ],
   "source": [
    "import requests\n",
    "\n",
    "# Define el endpoint del nuevo modelo, por ejemplo, runwayml/stable-diffusion-v1-5\n",
    "API_URL = \"https://api-inference.huggingface.co/models/runwayml/stable-diffusion-v1-5\"\n",
    "TOKEN = \"TU TOKEN\"  # Asegúrate de que tu token tenga permisos\n",
    "\n",
    "headers = {\"Authorization\": f\"Bearer {TOKEN}\"}\n",
    "\n",
    "def generar_imagen_hf(prompt, output_file=\"imagen.png\"):\n",
    "    payload = {\"inputs\": prompt}\n",
    "    response = requests.post(API_URL, headers=headers, json=payload)\n",
    "    if response.status_code == 200:\n",
    "        with open(output_file, \"wb\") as f:\n",
    "            f.write(response.content)\n",
    "        print(f\"Imagen guardada en: {output_file}\")\n",
    "    else:\n",
    "        print(\"Error al generar la imagen:\", response.status_code, response.text)\n",
    "\n",
    "# Ejemplo de uso\n",
    "prompt = \"Caratula estilo pixar que diga 'Manaos' y muestre el amazonas \"\n",
    "generar_imagen_hf(prompt)\n"
   ]
  }
 ],
 "metadata": {
  "accelerator": "GPU",
  "colab": {
   "authorship_tag": "ABX9TyPMWjj40MUWZJh6hw5JKgan",
   "gpuType": "T4",
   "provenance": []
  },
  "kernelspec": {
   "display_name": "Python 3",
   "name": "python3"
  },
  "language_info": {
   "name": "python"
  }
 },
 "nbformat": 4,
 "nbformat_minor": 0
}
